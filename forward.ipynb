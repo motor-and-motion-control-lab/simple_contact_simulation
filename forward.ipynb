{
 "cells": [
  {
   "cell_type": "code",
   "execution_count": 9,
   "metadata": {},
   "outputs": [],
   "source": [
    "import pinocchio as pin\n",
    "import numpy as np\n",
    "import cvxpy as cp\n",
    "\n",
    "\n",
    "from Robot_Dora2 import Robot_Dora2\n",
    "from Ground import Ground\n",
    "from Collision import Collision\n",
    "from Dynamics import Dynamics\n",
    "\n",
    "from pinocchio.visualize import MeshcatVisualizer\n",
    "import meshcat"
   ]
  },
  {
   "cell_type": "code",
   "execution_count": 18,
   "metadata": {},
   "outputs": [
    {
     "name": "stdout",
     "output_type": "stream",
     "text": [
      "You can open the visualizer by visiting the following URL:\n",
      "http://127.0.0.1:7000/static/\n"
     ]
    }
   ],
   "source": [
    "robot = Robot_Dora2()\n",
    "ground = Ground()\n",
    "viz = MeshcatVisualizer(robot.model, robot.gmodel, robot.vmodel)\n",
    "viz.initViewer(loadModel=True, viewer=meshcat.Visualizer())"
   ]
  },
  {
   "cell_type": "code",
   "execution_count": null,
   "metadata": {},
   "outputs": [],
   "source": [
    "dynamics = Dynamics(robot, ground, 0.005, 0.2)\n",
    "q = robot.q0\n",
    "q[2] = 2    # inital z position of the floating base of the robot\n",
    "\n",
    "v = np.zeros(robot.model.nv)\n",
    "u = np.zeros(robot.model.nv)\n",
    "\n",
    "\n",
    "time = 0\n",
    "while time < 3:\n",
    "    q, v = dynamics.forward_sim(q, v, u)\n",
    "    time += dynamics.h\n",
    "    \n",
    "    pin.forwardKinematics(robot.model, robot.data, q, v)\n",
    "    pin.updateFramePlacements(robot.model, robot.data)\n",
    "    pin.computeJointJacobians(robot.model, robot.data)\n",
    "    \n",
    "    viz.display(q)"
   ]
  }
 ],
 "metadata": {
  "kernelspec": {
   "display_name": "mcm",
   "language": "python",
   "name": "python3"
  },
  "language_info": {
   "codemirror_mode": {
    "name": "ipython",
    "version": 3
   },
   "file_extension": ".py",
   "mimetype": "text/x-python",
   "name": "python",
   "nbconvert_exporter": "python",
   "pygments_lexer": "ipython3",
   "version": "3.11.11"
  }
 },
 "nbformat": 4,
 "nbformat_minor": 2
}
